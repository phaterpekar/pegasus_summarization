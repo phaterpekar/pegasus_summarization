{
  "nbformat": 4,
  "nbformat_minor": 0,
  "metadata": {
    "colab": {
      "name": "Pegasus_hf.ipynb",
      "provenance": [],
      "authorship_tag": "ABX9TyO2SbYslePSJ7CZIXlEqP/f",
      "include_colab_link": true
    },
    "kernelspec": {
      "name": "python3",
      "display_name": "Python 3"
    },
    "accelerator": "GPU"
  },
  "cells": [
    {
      "cell_type": "markdown",
      "metadata": {
        "id": "view-in-github",
        "colab_type": "text"
      },
      "source": [
        "<a href=\"https://colab.research.google.com/github/phaterpekar/pegasus_summarization/blob/master/Pegasus_hf.ipynb\" target=\"_parent\"><img src=\"https://colab.research.google.com/assets/colab-badge.svg\" alt=\"Open In Colab\"/></a>"
      ]
    },
    {
      "cell_type": "code",
      "metadata": {
        "id": "5RtMt1FfYzzc",
        "colab_type": "code",
        "colab": {
          "base_uri": "https://localhost:8080/",
          "height": 544
        },
        "outputId": "9abbc80f-88cb-4ae4-8f68-c4025154eecd"
      },
      "source": [
        "!git clone https://github.com/huggingface/transformers\n",
        "%cd transformers\n",
        "!pip install ."
      ],
      "execution_count": 1,
      "outputs": [
        {
          "output_type": "stream",
          "text": [
            "fatal: destination path 'transformers' already exists and is not an empty directory.\n",
            "/content/transformers\n",
            "Processing /content/transformers\n",
            "Requirement already satisfied: numpy in /usr/local/lib/python3.6/dist-packages (from transformers==3.0.2) (1.18.5)\n",
            "Requirement already satisfied: tokenizers==0.8.1.rc2 in /usr/local/lib/python3.6/dist-packages (from transformers==3.0.2) (0.8.1rc2)\n",
            "Requirement already satisfied: packaging in /usr/local/lib/python3.6/dist-packages (from transformers==3.0.2) (20.4)\n",
            "Requirement already satisfied: filelock in /usr/local/lib/python3.6/dist-packages (from transformers==3.0.2) (3.0.12)\n",
            "Requirement already satisfied: requests in /usr/local/lib/python3.6/dist-packages (from transformers==3.0.2) (2.23.0)\n",
            "Requirement already satisfied: tqdm>=4.27 in /usr/local/lib/python3.6/dist-packages (from transformers==3.0.2) (4.41.1)\n",
            "Requirement already satisfied: regex!=2019.12.17 in /usr/local/lib/python3.6/dist-packages (from transformers==3.0.2) (2019.12.20)\n",
            "Requirement already satisfied: sentencepiece!=0.1.92 in /usr/local/lib/python3.6/dist-packages (from transformers==3.0.2) (0.1.91)\n",
            "Requirement already satisfied: sacremoses in /usr/local/lib/python3.6/dist-packages (from transformers==3.0.2) (0.0.43)\n",
            "Requirement already satisfied: dataclasses in /usr/local/lib/python3.6/dist-packages (from transformers==3.0.2) (0.7)\n",
            "Requirement already satisfied: pyparsing>=2.0.2 in /usr/local/lib/python3.6/dist-packages (from packaging->transformers==3.0.2) (2.4.7)\n",
            "Requirement already satisfied: six in /usr/local/lib/python3.6/dist-packages (from packaging->transformers==3.0.2) (1.15.0)\n",
            "Requirement already satisfied: chardet<4,>=3.0.2 in /usr/local/lib/python3.6/dist-packages (from requests->transformers==3.0.2) (3.0.4)\n",
            "Requirement already satisfied: idna<3,>=2.5 in /usr/local/lib/python3.6/dist-packages (from requests->transformers==3.0.2) (2.10)\n",
            "Requirement already satisfied: certifi>=2017.4.17 in /usr/local/lib/python3.6/dist-packages (from requests->transformers==3.0.2) (2020.6.20)\n",
            "Requirement already satisfied: urllib3!=1.25.0,!=1.25.1,<1.26,>=1.21.1 in /usr/local/lib/python3.6/dist-packages (from requests->transformers==3.0.2) (1.24.3)\n",
            "Requirement already satisfied: click in /usr/local/lib/python3.6/dist-packages (from sacremoses->transformers==3.0.2) (7.1.2)\n",
            "Requirement already satisfied: joblib in /usr/local/lib/python3.6/dist-packages (from sacremoses->transformers==3.0.2) (0.16.0)\n",
            "Building wheels for collected packages: transformers\n",
            "  Building wheel for transformers (setup.py) ... \u001b[?25l\u001b[?25hdone\n",
            "  Created wheel for transformers: filename=transformers-3.0.2-cp36-none-any.whl size=874014 sha256=536c9f992086acd2a356064011004432a22c0e532fb82b5671a10ea93680e8e6\n",
            "  Stored in directory: /tmp/pip-ephem-wheel-cache-5myeoxqs/wheels/23/19/dd/2561a4e47240cf6b307729d58e56f8077dd0c698f5992216cf\n",
            "Successfully built transformers\n",
            "Installing collected packages: transformers\n",
            "  Found existing installation: transformers 3.0.2\n",
            "    Uninstalling transformers-3.0.2:\n",
            "      Successfully uninstalled transformers-3.0.2\n",
            "Successfully installed transformers-3.0.2\n"
          ],
          "name": "stdout"
        }
      ]
    },
    {
      "cell_type": "code",
      "metadata": {
        "id": "QvnhIYtxY3DD",
        "colab_type": "code",
        "colab": {}
      },
      "source": [
        "from transformers import PegasusForConditionalGeneration, PegasusTokenizer\n",
        "import torch"
      ],
      "execution_count": 2,
      "outputs": []
    },
    {
      "cell_type": "code",
      "metadata": {
        "id": "enYchgRFY3JW",
        "colab_type": "code",
        "colab": {}
      },
      "source": [
        "src_text = [\"\"\"Taliban insurgents set off a truck bomb on Tuesday in an attack on Afghan army commandos, killing three people and wounding 41, the defense ministry said, despite steps towards peace talks with the US-backed government. The Taliban claimed responsibility for the blast in the northern province of Balkh, saying on Twitter they had attacked the commandos. For all the latest headlines follow our Google News channel online or via the app. The defense ministry said two members of the commando force were killed and six wounded, while the rest of the casualties were civilians. The blast came as a Taliban delegation visited the Pakistani capital to discuss a peace process underpinned by an agreement between the Taliban and the United States on the withdrawal of US forces in exchange for Taliban security guarantees and a promise to open power-sharing talks with the government. Read more: Taliban says ready for Afghan peace talks after prisoner release Kabul police chief fired as surge in attacks hit Afghan capital But despite what many Afghans see as the best hope for peace since the latest phase of Afghanistan’s war began in 2001, the level of violence has remained high. Diplomats and officials say the violence is sapping the trust needed for talks. The government has asked repeatedly for a ceasefire before negotiations start in Qatar’s capital of Doha, a request the Taliban have refused. Diplomats say Pakistan, which has long had influence over different Afghan factions, including the Taliban, has in recent months been pushing for a reduction in violence. It was not immediately clear what issues would be discussed in the talks between the Taliban and the Pakistanis in Islamabad. Last Update: Tuesday, 25 August 2020 KSA 18:57 - GMT 15:57\"\"\"]\n",
        "\n",
        "model_name = 'google/pegasus-xsum'\n",
        "torch_device = 'cuda' if torch.cuda.is_available() else 'cpu'\n",
        "tokenizer = PegasusTokenizer.from_pretrained(model_name)\n",
        "model = PegasusForConditionalGeneration.from_pretrained(model_name).to(torch_device)\n",
        "batch = tokenizer.prepare_seq2seq_batch(src_text, truncation=True, padding='longest').to(torch_device)\n",
        "translated = model.generate(**batch)\n",
        "tgt_text = tokenizer.batch_decode(translated, skip_special_tokens=True)"
      ],
      "execution_count": 7,
      "outputs": []
    },
    {
      "cell_type": "code",
      "metadata": {
        "id": "6kf9a0DZY3NM",
        "colab_type": "code",
        "colab": {
          "base_uri": "https://localhost:8080/",
          "height": 102
        },
        "outputId": "354d33ef-30a9-43fc-a1ff-d22daa58e1a9"
      },
      "source": [
        "translated"
      ],
      "execution_count": 8,
      "outputs": [
        {
          "output_type": "execute_result",
          "data": {
            "text/plain": [
              "tensor([[    0, 22062, 40757,   323,   299,   114,  2818,  9517,   124,  1842,\n",
              "           115,   142,  2281,   124, 16664,  5605, 64311,   116,   108,  5730,\n",
              "           339,   200,   111, 58234,  6820,   108,   109,  3188,  4774,   243,\n",
              "           108,  2409,  1550,  1239,  2206,  3935,   122,   109,   787,   121,\n",
              "         17945,   657,   107]], device='cuda:0')"
            ]
          },
          "metadata": {
            "tags": []
          },
          "execution_count": 8
        }
      ]
    },
    {
      "cell_type": "code",
      "metadata": {
        "id": "UaszTQzTY3QZ",
        "colab_type": "code",
        "colab": {
          "base_uri": "https://localhost:8080/",
          "height": 34
        },
        "outputId": "3599fa21-fa57-4e50-e288-c2a5a85cc00e"
      },
      "source": [
        "tgt_text"
      ],
      "execution_count": 9,
      "outputs": [
        {
          "output_type": "execute_result",
          "data": {
            "text/plain": [
              "['Taliban insurgents set off a truck bomb on Tuesday in an attack on Afghan army commandos, killing three people and wounding 41, the defense ministry said, despite steps towards peace talks with the US-backed government.']"
            ]
          },
          "metadata": {
            "tags": []
          },
          "execution_count": 9
        }
      ]
    },
    {
      "cell_type": "code",
      "metadata": {
        "id": "9BXXhKS4ZBtd",
        "colab_type": "code",
        "colab": {}
      },
      "source": [
        "# assert tgt_text[0] == \"California's largest electricity provider has turned off power to tens of thousands of customers.\""
      ],
      "execution_count": 6,
      "outputs": []
    }
  ]
}